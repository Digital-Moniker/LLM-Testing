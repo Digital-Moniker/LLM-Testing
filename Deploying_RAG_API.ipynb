{
  "nbformat": 4,
  "nbformat_minor": 0,
  "metadata": {
    "colab": {
      "provenance": []
    },
    "kernelspec": {
      "name": "python3",
      "display_name": "Python 3"
    },
    "language_info": {
      "name": "python"
    }
  },
  "cells": [
    {
      "cell_type": "markdown",
      "source": [
        "# Challenge: Deploy a simple RAG Application using an API\n",
        "In this challenge you will have to build an RAG application that can answer questions using data on a webpage. You will be using Graphlit to build this application since they provide a hosted solution to ingest data and build chatbots on top of it.\n",
        "\n",
        "[![open in colab](https://colab.research.google.com/assets/colab-badge.svg)](https://colab.research.google.com/github/LinkedInLearning/generative-ai-and-llmops-deploying-and-managing-llms-in-production-4465782/blob/main/ch-03/challenge_deploy_RAG_using_API.ipynb)"
      ],
      "metadata": {
        "id": "d5mnG4tlyaRe"
      }
    },
    {
      "cell_type": "code",
      "execution_count": null,
      "metadata": {
        "id": "N24LWygmAWMR"
      },
      "outputs": [],
      "source": [
        "!pip install graphlit-client -q"
      ]
    },
    {
      "cell_type": "code",
      "source": [
        "from typing import Optional\n",
        "from graphlit import Graphlit\n",
        "from graphlit_api import *"
      ],
      "metadata": {
        "id": "zpHXBdHLAdUp"
      },
      "execution_count": null,
      "outputs": []
    },
    {
      "cell_type": "code",
      "source": [
        "# Get your Graphlit token from https://portal.graphlit.dev\n",
        "graphlit = Graphlit(organization_id=\"insertkey\", environment_id=\"insertkey\", jwt_secret=\"insertkey\")"
      ],
      "metadata": {
        "id": "7EwkV4FpAebz"
      },
      "execution_count": null,
      "outputs": []
    },
    {
      "cell_type": "code",
      "source": [
        "# Function to create a new feed using the provided URL (uri) and return the feed ID or an error message.\n",
        "async def create_feed(graphlit, uri):\n",
        "    input = FeedInput(\n",
        "        name=uri,  # The name of the feed is set to the URL itself.\n",
        "        type=FeedTypes.WEB,  # Specifies that the feed type is a web feed.\n",
        "        web=WebFeedPropertiesInput(\n",
        "            uri=uri,  # URL for the web feed.\n",
        "            readLimit=10  # Sets the limit on the number of reads allowed.\n",
        "        )\n",
        "    )\n",
        "\n",
        "    try:\n",
        "        # Attempt to create the feed using the graphlit client.\n",
        "        response = await graphlit.client.create_feed(input)\n",
        "\n",
        "        # Extract and return the feed ID from the response.\n",
        "        feed_id = response.create_feed.id\n",
        "    except GraphQLClientError as e:\n",
        "        # Return the error message in case of a GraphQL client error.\n",
        "        return str(e)\n",
        "\n",
        "    return feed_id\n",
        "\n",
        "# Function to create a specification for a summarization task using the ANTHROPIC model and return the specification ID or an error message.\n",
        "async def create_specification(graphlit):\n",
        "    input = SpecificationInput(\n",
        "        name=\"Summarization\",  # Name of the specification.\n",
        "        type=SpecificationTypes.COMPLETION,  # Specifies that this is a completion type specification.\n",
        "        serviceType=ModelServiceTypes.ANTHROPIC,  # Sets the model service type to Anthropic.\n",
        "        searchType=SearchTypes.VECTOR,  # Sets the search type to vector.\n",
        "        anthropic=AnthropicModelPropertiesInput(\n",
        "            model=AnthropicModels.CLAUDE_3_HAIKU,  # Specifies the Anthropic model to be used.\n",
        "            temperature=0.1,  # Sets the temperature for model output, affecting randomness.\n",
        "            probability=0.2,  # Sets the probability threshold for certain responses.\n",
        "            completionTokenLimit=2048,  # Limits the number of tokens in the completion output.\n",
        "        )\n",
        "    )\n",
        "\n",
        "    try:\n",
        "        # Attempt to create the specification using the graphlit client.\n",
        "        response = await graphlit.client.create_specification(input)\n",
        "\n",
        "        # Extract and return the specification ID from the response.\n",
        "        spec_id = response.create_specification.id\n",
        "    except GraphQLClientError as e:\n",
        "        # Return the error message in case of a GraphQL client error.\n",
        "        return str(e)\n",
        "\n",
        "    return spec_id\n",
        "\n",
        "# Function to create a new conversation using a specification ID and return the conversation ID or an error message.\n",
        "async def create_conversation(graphlit, spec_id):\n",
        "    input = ConversationInput(\n",
        "        name=\"Conversation\",  # Name of the conversation.\n",
        "        specification=EntityReferenceInput(\n",
        "            id=spec_id  # Reference to the specification ID to be used for this conversation.\n",
        "        )\n",
        "    )\n",
        "\n",
        "    try:\n",
        "        # Attempt to create the conversation using the graphlit client.\n",
        "        response = await graphlit.client.create_conversation(input)\n",
        "\n",
        "        # Extract and return the conversation ID from the response.\n",
        "        conv_id = response.create_conversation.id\n",
        "    except GraphQLClientError as e:\n",
        "        # Return the error message in case of a GraphQL client error.\n",
        "        return str(e)\n",
        "\n",
        "    return conv_id\n",
        "\n",
        "# Function to send a prompt to an existing conversation and return the generated message and any citations, or an error message.\n",
        "async def prompt_conversation(graphlit, conv_id, prompt):\n",
        "    try:\n",
        "        # Attempt to send a prompt to the conversation using the graphlit client.\n",
        "        response = await graphlit.client.prompt_conversation(prompt, conv_id)\n",
        "\n",
        "        # Extract the generated message and citations from the response.\n",
        "        message = response.prompt_conversation.message.message\n",
        "        citations = response.prompt_conversation.message.citations\n",
        "\n",
        "        return message, citations\n",
        "    except GraphQLClientError as e:\n",
        "        # Return None for message and the error message in case of a GraphQL client error.\n",
        "        return None, str(e)"
      ],
      "metadata": {
        "id": "AAPi3B4cAflm"
      },
      "execution_count": null,
      "outputs": []
    },
    {
      "cell_type": "code",
      "source": [
        "# Set the URL for the feed input, using a Wikipedia page as the source.\n",
        "uri = 'https://en.wikipedia.org/wiki/The_Lord_of_the_Rings'\n",
        "\n",
        "# Call the create_feed function with the graphlit client and the URL, asynchronously creating a new web feed.\n",
        "feed_id = await create_feed(graphlit, uri)\n",
        "\n",
        "# Print the created feed ID to verify the feed has been created successfully.\n",
        "feed_id"
      ],
      "metadata": {
        "id": "kKc3vLKPAhEC",
        "outputId": "b7d7d72e-25fa-46a4-a64d-50aeec311ffb",
        "colab": {
          "base_uri": "https://localhost:8080/",
          "height": 36
        }
      },
      "execution_count": null,
      "outputs": [
        {
          "output_type": "execute_result",
          "data": {
            "text/plain": [
              "'1768fd8f-5512-4aaf-a746-4b491723f26b'"
            ],
            "application/vnd.google.colaboratory.intrinsic+json": {
              "type": "string"
            }
          },
          "metadata": {},
          "execution_count": 96
        }
      ]
    },
    {
      "cell_type": "code",
      "source": [
        "# Call the create_specification function with the graphlit client, asynchronously creating a new specification.\n",
        "spec_id = await create_specification(graphlit)\n",
        "\n",
        "# Print the created specification ID to verify the specification has been created successfully.\n",
        "spec_id"
      ],
      "metadata": {
        "id": "yxe1zDYIAiT9",
        "outputId": "903b0415-abdb-484f-dd9d-593d0dacbfd6",
        "colab": {
          "base_uri": "https://localhost:8080/",
          "height": 36
        }
      },
      "execution_count": null,
      "outputs": [
        {
          "output_type": "execute_result",
          "data": {
            "text/plain": [
              "'91013da5-e41f-4f13-8e19-99ff666feb42'"
            ],
            "application/vnd.google.colaboratory.intrinsic+json": {
              "type": "string"
            }
          },
          "metadata": {},
          "execution_count": 97
        }
      ]
    },
    {
      "cell_type": "code",
      "source": [
        "# Create a new conversation using the created specification ID.\n",
        "# The specification ID is passed as an argument to link the conversation to the specific model configuration.\n",
        "conv_id = await create_conversation(graphlit, spec_id)\n",
        "\n",
        "# Print the created conversation ID to verify the conversation has been created successfully.\n",
        "conv_id"
      ],
      "metadata": {
        "id": "QIYaXmVdAkll",
        "outputId": "d7eb77ed-59c1-41b3-88be-d576035319c0",
        "colab": {
          "base_uri": "https://localhost:8080/",
          "height": 36
        }
      },
      "execution_count": null,
      "outputs": [
        {
          "output_type": "execute_result",
          "data": {
            "text/plain": [
              "'2bcabcfe-d99d-400f-922d-4557ce186f5c'"
            ],
            "application/vnd.google.colaboratory.intrinsic+json": {
              "type": "string"
            }
          },
          "metadata": {},
          "execution_count": 98
        }
      ]
    },
    {
      "cell_type": "code",
      "source": [
        "# Send a prompt to the created conversation, asking it to \"Summarize this webpage?\".\n",
        "# The prompt and conversation ID are passed as arguments to generate a response based on the specified model and feed.\n",
        "response = await prompt_conversation(graphlit, conv_id, \"Summarize this webpage?\")\n",
        "\n",
        "# Print the response containing the generated message and any citations from the summarization.\n",
        "response"
      ],
      "metadata": {
        "id": "uNL6KGBLAmfI",
        "outputId": "eb34bdaa-77ea-41c1-dbd2-7b2b98053066",
        "colab": {
          "base_uri": "https://localhost:8080/"
        }
      },
      "execution_count": null,
      "outputs": [
        {
          "output_type": "execute_result",
          "data": {
            "text/plain": [
              "('The Lord of the Rings is a classic fantasy novel by J.R.R. Tolkien, first published in the 1950s. It has become one of the most popular and influential works of fiction in the 20th century, with its epic story, detailed world-building, and memorable characters.\\n\\nThe novel was initially published in three volumes - The Fellowship of the Ring, The Two Towers, and The Return of the King. It follows the journey of the hobbit Frodo Baggins as he and a fellowship attempt to destroy the powerful One Ring and defeat the dark lord Sauron.\\n\\nThe Lord of the Rings has had a lasting impact on the fantasy genre, inspiring numerous adaptations in film, television, video games, and other media. It is considered a landmark work that has shaped modern fantasy storytelling.\\n\\nThe novel has received both critical acclaim and some criticism over the years, with some praising its depth and themes, while others have noted issues like a lack of psychological depth or a conservative worldview. However, it remains one of the most beloved and widely-read works of fiction.\\n\\nThe Lord of the Rings has also had a significant cultural impact, influencing music, art, and other forms of media. Its popularity has endured for decades, and new adaptations and interpretations continue to emerge, ensuring its lasting legacy.',\n",
              " None)"
            ]
          },
          "metadata": {},
          "execution_count": 99
        }
      ]
    },
    {
      "cell_type": "code",
      "source": [
        "response = await prompt_conversation(graphlit, conv_id, \"Who are te main characters?\")\n",
        "response"
      ],
      "metadata": {
        "id": "cvG7Z1nGApoY",
        "outputId": "a787cb97-8111-4147-ebe2-307122a85e4e",
        "colab": {
          "base_uri": "https://localhost:8080/"
        }
      },
      "execution_count": null,
      "outputs": [
        {
          "output_type": "execute_result",
          "data": {
            "text/plain": [
              "(\"The main characters in The Lord of the Rings are Frodo Baggins, the hobbit who is tasked with destroying the powerful One Ring, and his companions in the Fellowship - Aragorn, the heir to the throne of Gondor; Gandalf, the wizard who guides the group; Legolas the elf; Gimli the dwarf; and the hobbits Samwise Gamgee, Meriadoc 'Merry' Brandybuck, and Peregrin 'Pippin' Took.\\n\\nOther important characters include Sauron, the dark lord who seeks to reclaim the One Ring, and his servants like the Nazgûl; Galadriel and Elrond, powerful elven leaders; Théoden, the king of Rohan; and Faramir, the steward of Gondor.\",\n",
              " None)"
            ]
          },
          "metadata": {},
          "execution_count": 100
        }
      ]
    }
  ]
}
