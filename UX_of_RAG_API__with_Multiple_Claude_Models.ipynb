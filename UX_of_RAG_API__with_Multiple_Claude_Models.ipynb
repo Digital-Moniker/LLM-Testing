{
  "nbformat": 4,
  "nbformat_minor": 0,
  "metadata": {
    "colab": {
      "provenance": []
    },
    "kernelspec": {
      "name": "python3",
      "display_name": "Python 3"
    },
    "language_info": {
      "name": "python"
    }
  },
  "cells": [
    {
      "cell_type": "markdown",
      "source": [
        "# Deploying a simple RAG Application using an API"
      ],
      "metadata": {
        "id": "d5mnG4tlyaRe"
      }
    },
    {
      "cell_type": "code",
      "execution_count": null,
      "metadata": {
        "id": "N24LWygmAWMR"
      },
      "outputs": [],
      "source": [
        "!pip install graphlit-client -q"
      ]
    },
    {
      "cell_type": "code",
      "source": [
        "from typing import Optional\n",
        "from graphlit import Graphlit\n",
        "from graphlit_api import *\n",
        "import time"
      ],
      "metadata": {
        "id": "zpHXBdHLAdUp"
      },
      "execution_count": null,
      "outputs": []
    },
    {
      "cell_type": "code",
      "source": [
        "# Initialize the Graphlit client using organization and environment details.\n",
        "graphlit = Graphlit(\n",
        "    organization_id=\"insertkey\",\n",
        "    environment_id=\"insertkey\",\n",
        "    jwt_secret=\"insertkey\"\n",
        ")"
      ],
      "metadata": {
        "id": "7EwkV4FpAebz"
      },
      "execution_count": null,
      "outputs": []
    },
    {
      "cell_type": "code",
      "source": [
        "# Function to create a new feed using the provided URL (uri) and return the feed ID or an error message.\n",
        "async def create_feed(graphlit, uri):\n",
        "    input = FeedInput(\n",
        "        name=uri,  # The name of the feed is set to the URL itself.\n",
        "        type=FeedTypes.WEB,  # Specifies that the feed type is a web feed.\n",
        "        web=WebFeedPropertiesInput(\n",
        "            uri=uri,  # URL for the web feed.\n",
        "            readLimit=10  # Sets the limit on the number of reads allowed.\n",
        "        )\n",
        "    )\n",
        "\n",
        "    try:\n",
        "        # Attempt to create the feed using the graphlit client.\n",
        "        response = await graphlit.client.create_feed(input)\n",
        "\n",
        "        # Extract and return the feed ID from the response.\n",
        "        feed_id = response.create_feed.id\n",
        "    except GraphQLClientError as e:\n",
        "        # Return the error message in case of a GraphQL client error.\n",
        "        return str(e)\n",
        "\n",
        "    return feed_id\n",
        "\n",
        "# Function to create a specification for a summarization task using various ANTHROPIC models.\n",
        "async def create_specification(graphlit, model_version, temperature=0.1, probability=0.2, token_limit=2048):\n",
        "    input = SpecificationInput(\n",
        "        name=f\"Summarization with {model_version}\",  # Name of the specification, including model version.\n",
        "        type=SpecificationTypes.COMPLETION,  # Specifies that this is a completion type specification.\n",
        "        serviceType=ModelServiceTypes.ANTHROPIC,  # Sets the model service type to Anthropic.\n",
        "        searchType=SearchTypes.VECTOR,  # Sets the search type to vector.\n",
        "        anthropic=AnthropicModelPropertiesInput(\n",
        "            model=model_version,  # Specifies the Anthropic model version to be used.\n",
        "            temperature=temperature,  # Sets the temperature for model output, affecting randomness.\n",
        "            probability=probability,  # Sets the probability threshold for certain responses.\n",
        "            completionTokenLimit=token_limit,  # Limits the number of tokens in the completion output.\n",
        "        )\n",
        "    )\n",
        "\n",
        "    try:\n",
        "        # Attempt to create the specification using the graphlit client.\n",
        "        response = await graphlit.client.create_specification(input)\n",
        "\n",
        "        # Extract and return the specification ID from the response.\n",
        "        spec_id = response.create_specification.id\n",
        "    except GraphQLClientError as e:\n",
        "        # Return the error message in case of a GraphQL client error.\n",
        "        return str(e)\n",
        "\n",
        "    return spec_id\n",
        "\n",
        "# Function to create a new conversation using a specification ID and return the conversation ID or an error message.\n",
        "async def create_conversation(graphlit, spec_id):\n",
        "    input = ConversationInput(\n",
        "        name=\"Conversation\",  # Name of the conversation.\n",
        "        specification=EntityReferenceInput(\n",
        "            id=spec_id  # Reference to the specification ID to be used for this conversation.\n",
        "        )\n",
        "    )\n",
        "\n",
        "    try:\n",
        "        # Attempt to create the conversation using the graphlit client.\n",
        "        response = await graphlit.client.create_conversation(input)\n",
        "\n",
        "        # Extract and return the conversation ID from the response.\n",
        "        conv_id = response.create_conversation.id\n",
        "    except GraphQLClientError as e:\n",
        "        # Return the error message in case of a GraphQL client error.\n",
        "        return str(e)\n",
        "\n",
        "    return conv_id\n",
        "\n",
        "# Function to send a prompt to an existing conversation and return the generated message and any citations, or an error message.\n",
        "async def prompt_conversation(graphlit, conv_id, prompt):\n",
        "    try:\n",
        "        # Attempt to send a prompt to the conversation using the graphlit client.\n",
        "        response = await graphlit.client.prompt_conversation(prompt, conv_id)\n",
        "\n",
        "        # Extract the generated message and citations from the response.\n",
        "        message = response.prompt_conversation.message.message\n",
        "        citations = response.prompt_conversation.message.citations\n",
        "\n",
        "        return message, citations\n",
        "    except GraphQLClientError as e:\n",
        "        # Return None for message and the error message in case of a GraphQL client error.\n",
        "        return None, str(e)\n",
        "\n",
        "# Helper function to test multiple versions of Anthropic models\n",
        "async def test_anthropic_models(graphlit, uri, model_versions, prompt):\n",
        "    # Create a new feed using the URI\n",
        "    feed_id = await create_feed(graphlit, uri)\n",
        "    print(f\"Feed created: {feed_id}\")\n",
        "\n",
        "    # Iterate over the model versions to create specifications and conversations\n",
        "        # Iterate over the model versions to create specifications and conversations\n",
        "    for model_version in model_versions:\n",
        "        print(f\"\\nTesting model: {model_version}\")\n",
        "\n",
        "        # Time tracking for model-specific tasks\n",
        "        model_start_time = time.time()\n",
        "\n",
        "        # Create a specification for the model version\n",
        "        spec_id = await create_specification(graphlit, model_version)\n",
        "        print(f\"Specification created: {spec_id}\")\n",
        "\n",
        "        # Create a conversation using the created specification\n",
        "        conv_id = await create_conversation(graphlit, spec_id)\n",
        "        print(f\"Conversation created: {conv_id}\")\n",
        "\n",
        "        # Send the prompt to the conversation and get the response\n",
        "        response, error = await prompt_conversation(graphlit, conv_id, prompt)\n",
        "\n",
        "        # Time tracking for model-specific tasks completed\n",
        "        model_end_time = time.time()\n",
        "\n",
        "        # Output response or error\n",
        "        if response:\n",
        "            print(f\"Response from {model_version}: {response[:]}...\")  # Print partial response for brevity\n",
        "        else:\n",
        "            print(f\"Error with {model_version}: {error}\")\n",
        "\n",
        "        # Print time taken for this model version\n",
        "        print(f\"Time taken for {model_version}: {model_end_time - model_start_time:.2f} seconds\")\n"
      ],
      "metadata": {
        "id": "AAPi3B4cAflm"
      },
      "execution_count": null,
      "outputs": []
    },
    {
      "cell_type": "code",
      "source": [
        "# Example usage to test multiple Anthropic model versions\n",
        "uri = 'https://en.wikipedia.org/wiki/The_Lord_of_the_Rings'\n",
        "model_versions = [AnthropicModels.CLAUDE_3_HAIKU, AnthropicModels.CLAUDE_3_5_SONNET, AnthropicModels.CLAUDE_3_OPUS]  # List of model versions\n",
        "prompt = \"Summarize the webpage content.\""
      ],
      "metadata": {
        "id": "7Dxp8wIXuDgt"
      },
      "execution_count": null,
      "outputs": []
    },
    {
      "cell_type": "code",
      "source": [
        "# Run the test\n",
        "await test_anthropic_models(graphlit, uri, model_versions, prompt)"
      ],
      "metadata": {
        "id": "kKc3vLKPAhEC",
        "outputId": "7787e1a8-4d2e-4732-8b2c-c64a79f7ac08",
        "colab": {
          "base_uri": "https://localhost:8080/"
        }
      },
      "execution_count": null,
      "outputs": [
        {
          "output_type": "stream",
          "name": "stdout",
          "text": [
            "Feed created: Creating feed would exceed project feeds quota [3].  Please delete one or more existing feeds, or upgrade to a higher (paid) tier.\n",
            "\n",
            "Testing model: CLAUDE_3_HAIKU\n",
            "Specification created: b439a295-0be5-441d-9852-881e4014c328\n",
            "Conversation created: ee20992d-00ac-4e4a-b861-d07caa32a8cb\n",
            "Response from CLAUDE_3_HAIKU: The Lord of the Rings is a high fantasy novel written by J.R.R. Tolkien, published in three volumes from 1954-1955. It is set in the fictional world of Middle-earth and follows the journey of the hobbit Frodo Baggins as he and a group of companions embark on a quest to destroy an evil ring of power and defeat the dark lord Sauron. The novel has had a significant impact on popular culture and has been adapted into various forms of media, including films, television series, and video games.\n",
            "\n",
            "The Lord of the Rings has been translated into over 38 languages and has been widely praised for its imaginative storytelling, complex world-building, and themes of good versus evil, heroism, and the struggle against power. The novel has also influenced the fantasy genre and has been the subject of extensive scholarly analysis and criticism.\n",
            "\n",
            "The publication history of The Lord of the Rings was complex, with Tolkien facing disputes with his publisher and revisions to the text over the years. The novel has been published in various editions, with the 50th and 60th anniversary editions containing further corrections and revisions to the text.\n",
            "\n",
            "The Lord of the Rings has been adapted into various forms of media, including a 1955-1956 BBC radio adaptation, a 1978 animated film, and a highly successful live-action film trilogy directed by Peter Jackson in the early 2000s. In 2022, Amazon began presenting a multi-season television series set in the Second Age of Middle-earth, titled The Lord of the Rings: The Rings of Power.\n",
            "\n",
            "The Lord of the Rings has had a significant impact on popular culture, with its characters, settings, and themes becoming widely recognized and influential in the fantasy genre. The novel has also inspired a range of merchandise, including games, toys, and collectibles, as well as fan-created content and adaptations....\n",
            "Time taken for CLAUDE_3_HAIKU: 5.84 seconds\n",
            "\n",
            "Testing model: CLAUDE_3_5_SONNET\n",
            "Specification created: 4f36c3d7-88b6-4b00-af77-4caa8bc17b38\n",
            "Conversation created: d870e2be-303f-4fde-9ac2-97e7329ce88e\n",
            "Response from CLAUDE_3_5_SONNET: The Lord of the Rings is a high fantasy novel by J.R.R. Tolkien, published in three volumes from 1954 to 1955. It is one of the best-selling novels ever written, with over 150 million copies sold by 2007.\n",
            "\n",
            "The story began as a sequel to Tolkien's earlier work The Hobbit, but evolved into a much larger and more complex narrative. It follows the hobbit Frodo Baggins as he and a fellowship embark on a quest to destroy the One Ring and defeat the Dark Lord Sauron.\n",
            "\n",
            "The work has had a lasting influence on fantasy literature and has been adapted into award-winning films, radio dramas, stage productions, and various other media. It has received widespread critical acclaim and has been named one of the greatest British novels of all time.\n",
            "\n",
            "Tolkien drew inspiration from various mythologies, languages, and his experiences in World War I. The book explores themes of good vs. evil, friendship, heroism, and the corrupting influence of power.\n",
            "\n",
            "The novel includes extensive appendices providing background on the history, cultures, and languages of Middle-earth. It employs a frame narrative device, presenting the story as a historical account translated from ancient manuscripts....\n",
            "Time taken for CLAUDE_3_5_SONNET: 7.10 seconds\n",
            "\n",
            "Testing model: CLAUDE_3_OPUS\n",
            "Specification created: 34035ea6-f00b-4685-8362-f3076f10eb73\n",
            "Conversation created: 7b71d6d6-0e80-4a76-9560-7e1c0d9493d1\n",
            "Response from CLAUDE_3_OPUS: The Lord of the Rings is an epic high-fantasy novel by English author and scholar J. R. R. Tolkien. The story began as a sequel to Tolkien's 1937 children's book The Hobbit, but eventually developed into a much larger work. It was written in stages between 1937 and 1949, with much of it being written during World War II.\n",
            "\n",
            "For publication, the work was divided into three volumes to minimize any potential financial loss due to the high cost of type-setting and modest anticipated sales: The Fellowship of the Ring, The Two Towers, and The Return of the King. Because the three-volume binding was so widely distributed, the work is often referred to as the Lord of the Rings \"trilogy\", though Tolkien himself objected to this term as he viewed it as a single novel.\n",
            "\n",
            "The book has been adapted for radio four times by the BBC, in 1955, 1956, and 1981. A variety of filmmakers considered adapting Tolkien's book, and several television and film adaptations have been made, including Ralph Bakshi's 1978 animated film, Rankin/Bass's 1980 animated TV special, and Peter Jackson's 2001-2003 live action film trilogy.\n",
            "\n",
            "The enormous popularity of Tolkien's work expanded the demand for fantasy and has had a profound effect on the genre. It has spawned many imitations as well as interpretations, and its influence can be seen in role-playing games like Dungeons & Dragons and many modern video games. The Lord of the Rings has been named Britain's best novel of all time and one of the greatest works of the 20th century....\n",
            "Time taken for CLAUDE_3_OPUS: 21.09 seconds\n"
          ]
        }
      ]
    },
    {
      "cell_type": "markdown",
      "source": [
        "CLAUDE_3_HAIKU:\n",
        "* Fastest model (5.84 seconds), providing a quick response with high efficiency. Focused primaraly on the overall cultural impact of The Lord of the Rings, highlighting its influence on the fantasy genre, adaptations, and critical acclaim. Not detailing any specifics about the plot which is highly detailed int he wikipedia page. In essence it only summarzd a portion of the page.\n",
        "\n",
        "CLAUDE_3_5_SONNET:\n",
        "* Moderate speed (7.10 seconds), returned a balance between speed and detail It Emphasized plot details, particularly Frodo’s quest to destroy the One Ring, while also covering core themes like good vs. evil, friendship, as well as the novel's influence on fantasy literature.\n",
        "\n",
        "CLAUDE_3_OPUS:\n",
        "* Slowest model (21.09 seconds), but returned a much more detailed and comprehensive summary. Covering both the plot and Tolkien's inspirations, it took the time to highlight Sauron specifically, the One Ring, and the journey of the hobbits, along with references to mythology and literary influences."
      ],
      "metadata": {
        "id": "RBF78mIjw0XW"
      }
    }
  ]
}